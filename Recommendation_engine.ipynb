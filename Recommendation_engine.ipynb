{
 "cells": [
  {
   "cell_type": "code",
   "execution_count": 1,
   "metadata": {},
   "outputs": [],
   "source": [
    "import os\n",
    "import PyPDF2\n",
    "import nltk\n",
    "from nltk.tokenize import word_tokenize\n",
    "from nltk.corpus import stopwords\n",
    "from sklearn.feature_extraction.text import TfidfVectorizer\n",
    "from sklearn.metrics.pairwise import cosine_similarity\n",
    "\n"
   ]
  },
  {
   "cell_type": "code",
   "execution_count": 4,
   "metadata": {},
   "outputs": [
    {
     "name": "stdout",
     "output_type": "stream",
     "text": [
      "showing info https://raw.githubusercontent.com/nltk/nltk_data/gh-pages/index.xml\n"
     ]
    },
    {
     "data": {
      "text/plain": [
       "True"
      ]
     },
     "execution_count": 4,
     "metadata": {},
     "output_type": "execute_result"
    }
   ],
   "source": [
    "import nltk\n",
    "import ssl\n",
    "\n",
    "try:\n",
    "    _create_unverified_https_context = ssl._create_unverified_context\n",
    "except AttributeError:\n",
    "    pass\n",
    "else:\n",
    "    ssl._create_default_https_context = _create_unverified_https_context\n",
    "\n",
    "nltk.download()\n"
   ]
  },
  {
   "cell_type": "code",
   "execution_count": 14,
   "metadata": {},
   "outputs": [
    {
     "name": "stderr",
     "output_type": "stream",
     "text": [
      "[nltk_data] Downloading package punkt to\n",
      "[nltk_data]     /Users/sudarssan_n/nltk_data...\n",
      "[nltk_data]   Package punkt is already up-to-date!\n",
      "[nltk_data] Downloading package stopwords to\n",
      "[nltk_data]     /Users/sudarssan_n/nltk_data...\n",
      "[nltk_data]   Package stopwords is already up-to-date!\n"
     ]
    }
   ],
   "source": [
    "# Download NLTK resources\n",
    "nltk.download('punkt')\n",
    "nltk.download('stopwords')\n",
    "\n",
    "# Function to extract text from PDF files\n",
    "def extract_text_from_pdf(pdf_file):\n",
    "    text = \"\"\n",
    "    with open(pdf_file, \"rb\") as file:\n",
    "        reader = PyPDF2.PdfReader(file)\n",
    "\n",
    "        # Iterate directly over the pages object:\n",
    "        for page in reader.pages:\n",
    "            text += page.extract_text()  # Use extract_text() with an underscore\n",
    "\n",
    "    return text\n",
    "\n",
    "# Function to preprocess text data\n"
   ]
  },
  {
   "cell_type": "code",
   "execution_count": 6,
   "metadata": {},
   "outputs": [],
   "source": [
    "def preprocess_text(text):\n",
    "    # Tokenization\n",
    "    tokens = word_tokenize(text)\n",
    "    \n",
    "    # Remove punctuation and convert to lowercase\n",
    "    tokens = [word.lower() for word in tokens if word.isalpha()]\n",
    "    \n",
    "    # Remove stopwords\n",
    "    stop_words = set(stopwords.words('english'))\n",
    "    tokens = [word for word in tokens if word not in stop_words]\n",
    "    \n",
    "    return \" \".join(tokens)\n",
    "\n",
    "# Sample PDF files directory\n"
   ]
  },
  {
   "cell_type": "code",
   "execution_count": 15,
   "metadata": {},
   "outputs": [],
   "source": [
    "pdf_dir = \"/SchemeData\"\n",
    "\n",
    "# List to store scheme information\n",
    "schemes = []\n",
    "\n",
    "# Read PDF files, extract scheme information, and preprocess\n",
    "for file_name in os.listdir(pdf_dir):\n",
    "    if file_name.endswith(\".pdf\"):\n",
    "        pdf_file = os.path.join(pdf_dir, file_name)\n",
    "        text = extract_text_from_pdf(pdf_file)\n",
    "        preprocessed_text = preprocess_text(text)\n",
    "        schemes.append((file_name, preprocessed_text))\n",
    "\n",
    "\n"
   ]
  },
  {
   "cell_type": "code",
   "execution_count": 16,
   "metadata": {},
   "outputs": [
    {
     "name": "stdout",
     "output_type": "stream",
     "text": [
      "Recommended schemes:\n",
      "Acc.pdf\n",
      "Securrity.pdf\n",
      "healthcare.pdf\n",
      "Aero.pdf\n",
      "Media.pdf\n"
     ]
    }
   ],
   "source": [
    "# TF-IDF Vectorization\n",
    "vectorizer = TfidfVectorizer()\n",
    "X = vectorizer.fit_transform([scheme[1] for scheme in schemes])\n",
    "\n",
    "# Function to recommend schemes based on user requirements\n",
    "def recommend_schemes(user_requirements, top_n=5):\n",
    "    # Preprocess user requirements\n",
    "    user_requirements = preprocess_text(user_requirements)\n",
    "    # Vectorize user requirements\n",
    "    user_vector = vectorizer.transform([user_requirements])\n",
    "    # Compute cosine similarity between user requirements and scheme information\n",
    "    similarity_scores = cosine_similarity(user_vector, X)\n",
    "    # Get indices of top similar schemes\n",
    "    top_indices = similarity_scores.argsort()[0][-top_n:][::-1]\n",
    "    # Return top recommended schemes\n",
    "    return [schemes[i][0] for i in top_indices]\n",
    "\n",
    "# Example user requirements\n",
    "user_requirements = \"funding for small businesses in rural areas\"\n",
    "\n",
    "# Recommend schemes based on user requirements\n",
    "recommended_schemes = recommend_schemes(user_requirements)\n",
    "\n",
    "print(\"Recommended schemes:\")\n",
    "for scheme in recommended_schemes:\n",
    "    print(scheme)"
   ]
  }
 ],
 "metadata": {
  "kernelspec": {
   "display_name": "Python 3",
   "language": "python",
   "name": "python3"
  },
  "language_info": {
   "codemirror_mode": {
    "name": "ipython",
    "version": 3
   },
   "file_extension": ".py",
   "mimetype": "text/x-python",
   "name": "python",
   "nbconvert_exporter": "python",
   "pygments_lexer": "ipython3",
   "version": "3.11.8"
  }
 },
 "nbformat": 4,
 "nbformat_minor": 2
}
